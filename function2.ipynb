{
 "cells": [
  {
   "cell_type": "code",
   "execution_count": 1,
   "metadata": {},
   "outputs": [],
   "source": [
    "#arbitary keyword arguments, **kwargs:\n",
    "#if u dont know how many keyword arguments will be passed in the function, \n",
    "#then add ** before the parameter name in the function definition\n",
    "\n",
    "#this way the function will receive a dictionary of arguments, and can access the items accordingly.\n",
    "#this is a way the order of the argument does not matter."
   ]
  },
  {
   "cell_type": "code",
   "execution_count": 2,
   "metadata": {},
   "outputs": [
    {
     "name": "stdout",
     "output_type": "stream",
     "text": [
      "his last name is aggarwal\n"
     ]
    }
   ],
   "source": [
    "def my_function(**kid):\n",
    "    print(\"his last name is \"+kid[\"lname\"])\n",
    "my_function(fname = \"ayush\", lname = \"aggarwal\")"
   ]
  },
  {
   "cell_type": "code",
   "execution_count": 3,
   "metadata": {},
   "outputs": [],
   "source": [
    "#default paramter value:\n",
    "#the following example shows how to default paramter value.\n",
    "#if we call the function without paramter, it uses the default value."
   ]
  },
  {
   "cell_type": "code",
   "execution_count": 4,
   "metadata": {},
   "outputs": [
    {
     "name": "stdout",
     "output_type": "stream",
     "text": [
      "my name is aditya\n",
      "my name is Purva\n",
      "my name is rakesh\n",
      "my name is sanjana\n"
     ]
    }
   ],
   "source": [
    "def my_function(name = \"sanjana\"):\n",
    "    print(\"my name is \"+name)\n",
    "\n",
    "my_function(\"aditya\")\n",
    "my_function(\"Purva\")\n",
    "my_function(\"rakesh\")\n",
    "my_function()"
   ]
  },
  {
   "cell_type": "code",
   "execution_count": 5,
   "metadata": {},
   "outputs": [
    {
     "name": "stdout",
     "output_type": "stream",
     "text": [
      "aditya\n",
      "ajay\n",
      "sunil\n"
     ]
    }
   ],
   "source": [
    "#passing a list as an argument:\n",
    "def my_function(name):\n",
    "    for x in name:\n",
    "        print(x)\n",
    "\n",
    "n = [\"aditya\",\"ajay\",\"sunil\"]\n",
    "my_function(n)"
   ]
  },
  {
   "cell_type": "code",
   "execution_count": 6,
   "metadata": {},
   "outputs": [
    {
     "name": "stdout",
     "output_type": "stream",
     "text": [
      "25\n",
      "45\n",
      "10\n"
     ]
    }
   ],
   "source": [
    "#return values\n",
    "\n",
    "def my_function(x):\n",
    "    return 5*x\n",
    "\n",
    "my_function(8)\n",
    "my_function(7)\n",
    "print(my_function(5))\n",
    "print(my_function(9))\n",
    "print(my_function(2))"
   ]
  },
  {
   "cell_type": "code",
   "execution_count": 7,
   "metadata": {},
   "outputs": [],
   "source": [
    "def my_funcion():\n",
    "    pass"
   ]
  },
  {
   "cell_type": "code",
   "execution_count": 8,
   "metadata": {},
   "outputs": [],
   "source": [
    "#what is recursion?\n",
    "#recursion is the process of defining something in terms of itself.\n",
    "\n",
    "#a physical world example will be to place two parallel mirrors facing each other.\n",
    "#any object in between them would be reflected recursively"
   ]
  },
  {
   "cell_type": "code",
   "execution_count": 9,
   "metadata": {},
   "outputs": [],
   "source": [
    "#python recursive function:\n",
    "#in python we know a function can call other functions.\n",
    "#it is even possible for a function to call itself.\n",
    "#these types of constructs are termed as recursive functions."
   ]
  },
  {
   "cell_type": "code",
   "execution_count": 12,
   "metadata": {},
   "outputs": [
    {
     "name": "stdout",
     "output_type": "stream",
     "text": [
      "the factorial of  3 is  6\n"
     ]
    }
   ],
   "source": [
    "def factorial(x):\n",
    "    #this is a recursive function to find the factorial of a number\n",
    "    \n",
    "    if x==1:\n",
    "        return 1\n",
    "    else:\n",
    "        return (x*factorial(x-1))\n",
    "    \n",
    "num = 3\n",
    "print(\"the factorial of \",num,\"is \",factorial(num))"
   ]
  },
  {
   "cell_type": "code",
   "execution_count": 11,
   "metadata": {},
   "outputs": [],
   "source": [
    "#advantages of recursion:\n",
    "#recursive functions make the code look clean and elegant.\n",
    "#a complex task can be broken down into simpler smaller sub_problems using recursion.\n",
    "#sequence generation is easier using recursion rather than using some nested iterations."
   ]
  },
  {
   "cell_type": "code",
   "execution_count": 13,
   "metadata": {},
   "outputs": [],
   "source": [
    "#disadvantages of recursion:\n",
    "#sometimes the logic behind recursion is hard to follow through.\n",
    "#recursive function are expensive(inefficient) as they take up a lot of memory and\n",
    "#recursive functions are hard to debug."
   ]
  },
  {
   "cell_type": "code",
   "execution_count": 14,
   "metadata": {},
   "outputs": [
    {
     "name": "stdout",
     "output_type": "stream",
     "text": [
      "fibonacci series:\n",
      "0\n",
      "1\n",
      "1\n",
      "2\n",
      "3\n",
      "5\n",
      "8\n",
      "13\n",
      "21\n",
      "34\n"
     ]
    }
   ],
   "source": [
    "#recursive function\n",
    "\n",
    "def recursive_fibonacci(n):\n",
    "    if n<=1:\n",
    "        return n\n",
    "    else:\n",
    "        return(recursive_fibonacci(n-1)+recursive_fibonacci(n-2))\n",
    "\n",
    "n_terms = 10\n",
    "#check if the number of terms is valid\n",
    "if n_terms<=0:\n",
    "    print(\"invalid input! pls enter a valid positive number input\")\n",
    "else:\n",
    "    print(\"fibonacci series:\")\n",
    "for i in range(n_terms):\n",
    "    print(recursive_fibonacci(i))"
   ]
  },
  {
   "cell_type": "code",
   "execution_count": 15,
   "metadata": {},
   "outputs": [
    {
     "name": "stdout",
     "output_type": "stream",
     "text": [
      "\n",
      "\n",
      " recursion example results\n",
      "1\n",
      "3\n",
      "6\n",
      "10\n",
      "15\n",
      "21\n"
     ]
    },
    {
     "data": {
      "text/plain": [
       "21"
      ]
     },
     "execution_count": 15,
     "metadata": {},
     "output_type": "execute_result"
    }
   ],
   "source": [
    "def tri_recursion(k):\n",
    "    if (k>0):\n",
    "        result = k + tri_recursion(k-1)\n",
    "        print(result)\n",
    "    else:\n",
    "         result = 0\n",
    "    return result\n",
    "\n",
    "print(\"\\n\\n recursion example results\")\n",
    "tri_recursion(6)"
   ]
  },
  {
   "cell_type": "code",
   "execution_count": null,
   "metadata": {},
   "outputs": [],
   "source": []
  }
 ],
 "metadata": {
  "kernelspec": {
   "display_name": "Python 3",
   "language": "python",
   "name": "python3"
  },
  "language_info": {
   "codemirror_mode": {
    "name": "ipython",
    "version": 3
   },
   "file_extension": ".py",
   "mimetype": "text/x-python",
   "name": "python",
   "nbconvert_exporter": "python",
   "pygments_lexer": "ipython3",
   "version": "3.8.5"
  }
 },
 "nbformat": 4,
 "nbformat_minor": 4
}
