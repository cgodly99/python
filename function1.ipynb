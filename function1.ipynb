{
 "cells": [
  {
   "cell_type": "code",
   "execution_count": 1,
   "metadata": {},
   "outputs": [],
   "source": [
    "#Python-function:\n",
    "#A function is a block of code which runs only when it is called.\n",
    "#you can pass data,known as parameters in the function\n",
    "#a function can return data as a result"
   ]
  },
  {
   "cell_type": "code",
   "execution_count": 2,
   "metadata": {},
   "outputs": [
    {
     "name": "stdout",
     "output_type": "stream",
     "text": [
      "hello world\n"
     ]
    }
   ],
   "source": [
    "# create function\n",
    "\n",
    "def vomkesh():\n",
    "    print(\"hello world\")\n",
    "\n",
    "#calling a function\n",
    "\n",
    "def vomkesh():\n",
    "    print(\"hello world\")\n",
    "    \n",
    "vomkesh()"
   ]
  },
  {
   "cell_type": "code",
   "execution_count": 3,
   "metadata": {},
   "outputs": [
    {
     "name": "stdout",
     "output_type": "stream",
     "text": [
      "vomkesh bansal\n",
      "akhil bansal\n",
      "ravi bansal\n",
      "ankit bansal\n"
     ]
    }
   ],
   "source": [
    "def my_function(fname):\n",
    "    print(fname+\" \"+\"bansal\")\n",
    "\n",
    "my_function(\"vomkesh\")\n",
    "my_function(\"akhil\")\n",
    "my_function(\"ravi\")\n",
    "my_function(\"ankit\")"
   ]
  },
  {
   "cell_type": "code",
   "execution_count": 4,
   "metadata": {},
   "outputs": [],
   "source": [
    "#arbitary arguments, *args:\n",
    "#if you dont know how many arguments will be passed in your function, \n",
    "#add a * before the parameter name in the function definition."
   ]
  },
  {
   "cell_type": "code",
   "execution_count": 5,
   "metadata": {},
   "outputs": [
    {
     "name": "stdout",
     "output_type": "stream",
     "text": [
      "vomkesh is a coderfootball\n"
     ]
    }
   ],
   "source": [
    "def my_function(*air):\n",
    "    print(\"vomkesh is a coder\" + air[2])\n",
    "my_function(\"kite\",\"bat\",\"football\")"
   ]
  },
  {
   "cell_type": "code",
   "execution_count": 6,
   "metadata": {},
   "outputs": [],
   "source": [
    "#keyword_arguments:\n",
    "#you can send arguments with key=value syntax\n",
    "#this way the order of the arguments does not matter"
   ]
  },
  {
   "cell_type": "code",
   "execution_count": 8,
   "metadata": {},
   "outputs": [
    {
     "name": "stdout",
     "output_type": "stream",
     "text": [
      "the youngest child is tiger\n"
     ]
    }
   ],
   "source": [
    "def my_function(child3,child2,child1):\n",
    "    print(\"the youngest child is\"+\" \"+child3)\n",
    "\n",
    "my_function(child1 = \"elephant\", child2 = \"lion\", child3 = \"tiger\")"
   ]
  },
  {
   "cell_type": "code",
   "execution_count": 9,
   "metadata": {},
   "outputs": [],
   "source": [
    "#arbitary keyword arguments, **kwargs:\n",
    "#if u dont know how many keyword arguments will be passed in the function, \n",
    "#then add ** before the parameter name in the function definition"
   ]
  },
  {
   "cell_type": "code",
   "execution_count": 11,
   "metadata": {},
   "outputs": [
    {
     "name": "stdout",
     "output_type": "stream",
     "text": [
      "his last name is bansal\n"
     ]
    }
   ],
   "source": [
    "def my_function(**kid):\n",
    "    print(\"his last name is \"+kid[\"lname\"])\n",
    "\n",
    "my_function(fname = \"vomkesh\", lname = \"bansal\") "
   ]
  },
  {
   "cell_type": "code",
   "execution_count": 12,
   "metadata": {},
   "outputs": [
    {
     "name": "stdout",
     "output_type": "stream",
     "text": [
      "I am from country INDIA\n",
      "I am from country USA\n",
      "I am from country UK\n",
      "I am from country AUS\n",
      "I am from country BRAZIL\n",
      "I am from country Sweden\n"
     ]
    }
   ],
   "source": [
    "#default parameter value:\n",
    "\n",
    "def my_function(country=\"AUS\"):\n",
    "    print(\"I am from country \"+country)\n",
    "    \n",
    "my_function(\"INDIA\")\n",
    "my_function(\"USA\")\n",
    "my_function(\"UK\")\n",
    "my_function()\n",
    "my_function(\"BRAZIL\")\n",
    "my_function(\"Sweden\")"
   ]
  },
  {
   "cell_type": "code",
   "execution_count": 14,
   "metadata": {},
   "outputs": [
    {
     "name": "stdout",
     "output_type": "stream",
     "text": [
      "watermelon\n",
      "apple\n",
      "mango\n",
      "banana\n",
      "orange\n"
     ]
    }
   ],
   "source": [
    "#passing a list as an argument:\n",
    "\n",
    "def boy(food):\n",
    "    for x in food:\n",
    "        print(x)\n",
    "        \n",
    "fruits = [\"watermelon\",\"apple\",\"mango\",\"banana\",\"orange\"]\n",
    "\n",
    "boy(fruits)"
   ]
  },
  {
   "cell_type": "code",
   "execution_count": 15,
   "metadata": {},
   "outputs": [
    {
     "name": "stdout",
     "output_type": "stream",
     "text": [
      "15\n",
      "20\n",
      "30\n"
     ]
    }
   ],
   "source": [
    "#return values\n",
    "\n",
    "def my_function(x):\n",
    "    return 5*x\n",
    "print(my_function(3))\n",
    "print(my_function(4))\n",
    "print(my_function(6))"
   ]
  },
  {
   "cell_type": "code",
   "execution_count": 16,
   "metadata": {},
   "outputs": [],
   "source": [
    "def my_function():\n",
    "    pass"
   ]
  },
  {
   "cell_type": "code",
   "execution_count": 17,
   "metadata": {},
   "outputs": [],
   "source": [
    "#Recursion:\n",
    "#python also accepts function recursion,which means a defined function can call itself.\n",
    "#recursion is a common mathematical and programming concept.\n",
    "#it means that a function calls itself. this has the benefit of meaning that you can loop through data to reach the result."
   ]
  },
  {
   "cell_type": "code",
   "execution_count": 18,
   "metadata": {},
   "outputs": [],
   "source": [
    "#what is recursion?\n",
    "#recursion is the process of defining something in terms of itself.\n",
    "\n",
    "#a physical world example will be to place two parallel mirrors facing each other.\n",
    "#any object in between them would be reflected recursively"
   ]
  },
  {
   "cell_type": "code",
   "execution_count": 19,
   "metadata": {},
   "outputs": [],
   "source": [
    "#python recursive function:\n",
    "#in python we know a function can call other functions.\n",
    "#it is even possible for a function to call itself.\n",
    "#these types of constructs are termed as recursive functions."
   ]
  },
  {
   "cell_type": "code",
   "execution_count": 20,
   "metadata": {},
   "outputs": [],
   "source": [
    "#advantages of recursion:\n",
    "#recursive functions make the code look clean and elegant.\n",
    "#a complex task can be broken down into simpler smaller sub_problems using recursion.\n",
    "#sequence generation is easier using recursion rather than using some nested iterations."
   ]
  },
  {
   "cell_type": "code",
   "execution_count": 21,
   "metadata": {},
   "outputs": [],
   "source": [
    "#disadvantages of recursion:\n",
    "#sometimes the logic behind recursion is hard to follow through.\n",
    "#recursive function are expensive(inefficient) as they take up a lot of memory and\n",
    "#recursive functions are hard to debug."
   ]
  },
  {
   "cell_type": "code",
   "execution_count": 22,
   "metadata": {},
   "outputs": [
    {
     "name": "stdout",
     "output_type": "stream",
     "text": [
      "the factorial of  5 is  120\n"
     ]
    }
   ],
   "source": [
    "def factorial(x):\n",
    "    #this is a recursive function to find the factorial of a number\n",
    "    \n",
    "    if x==1:\n",
    "        return 1\n",
    "    else:\n",
    "        return (x*factorial(x-1))\n",
    "    \n",
    "num = 5\n",
    "print(\"the factorial of \",num,\"is \",factorial(num))"
   ]
  },
  {
   "cell_type": "code",
   "execution_count": 24,
   "metadata": {},
   "outputs": [
    {
     "name": "stdout",
     "output_type": "stream",
     "text": [
      "fibonacci series:\n",
      "0\n",
      "1\n",
      "1\n",
      "2\n",
      "3\n",
      "5\n",
      "8\n",
      "13\n",
      "21\n",
      "34\n"
     ]
    }
   ],
   "source": [
    "#recursive function\n",
    "\n",
    "def recursive_fibonacci(n):\n",
    "    if n<=1:\n",
    "        return n\n",
    "    else:\n",
    "        return(recursive_fibonacci(n-1)+recursive_fibonacci(n-2))\n",
    "\n",
    "n_terms = 10\n",
    "#check if the number of terms is valid\n",
    "if n_terms<=0:\n",
    "    print(\"invalid input! pls enter a valid positive number input\")\n",
    "else:\n",
    "    print(\"fibonacci series:\")\n",
    "for i in range(n_terms):\n",
    "    print(recursive_fibonacci(i))"
   ]
  },
  {
   "cell_type": "code",
   "execution_count": 25,
   "metadata": {},
   "outputs": [
    {
     "name": "stdout",
     "output_type": "stream",
     "text": [
      "\n",
      "\n",
      " recursion example results\n",
      "1\n",
      "3\n",
      "6\n",
      "10\n",
      "15\n",
      "21\n"
     ]
    },
    {
     "data": {
      "text/plain": [
       "21"
      ]
     },
     "execution_count": 25,
     "metadata": {},
     "output_type": "execute_result"
    }
   ],
   "source": [
    "def tri_recursion(k):\n",
    "    if k>0:\n",
    "        result = k + tri_recursion(k-1)\n",
    "        print(result)\n",
    "    else:\n",
    "         result = 0\n",
    "    return result\n",
    "\n",
    "print(\"\\n\\n recursion example results\")\n",
    "tri_recursion(6)"
   ]
  },
  {
   "cell_type": "code",
   "execution_count": null,
   "metadata": {},
   "outputs": [],
   "source": []
  }
 ],
 "metadata": {
  "kernelspec": {
   "display_name": "Python 3",
   "language": "python",
   "name": "python3"
  },
  "language_info": {
   "codemirror_mode": {
    "name": "ipython",
    "version": 3
   },
   "file_extension": ".py",
   "mimetype": "text/x-python",
   "name": "python",
   "nbconvert_exporter": "python",
   "pygments_lexer": "ipython3",
   "version": "3.8.5"
  }
 },
 "nbformat": 4,
 "nbformat_minor": 4
}
